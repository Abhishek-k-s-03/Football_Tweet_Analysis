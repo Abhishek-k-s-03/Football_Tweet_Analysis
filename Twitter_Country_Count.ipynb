{
 "cells": [
  {
   "cell_type": "code",
   "execution_count": 1,
   "id": "39b5476c",
   "metadata": {},
   "outputs": [
    {
     "data": {
      "application/vnd.jupyter.widget-view+json": {
       "model_id": "b34f49c49b584b94801b0828759f6290",
       "version_major": 2,
       "version_minor": 0
      },
      "text/plain": [
       "VBox()"
      ]
     },
     "metadata": {},
     "output_type": "display_data"
    },
    {
     "name": "stdout",
     "output_type": "stream",
     "text": [
      "Starting Spark application\n"
     ]
    },
    {
     "data": {
      "text/html": [
       "<table>\n",
       "<tr><th>ID</th><th>YARN Application ID</th><th>Kind</th><th>State</th><th>Spark UI</th><th>Driver log</th><th>Current session?</th></tr><tr><td>0</td><td>application_1680417626835_0001</td><td>pyspark</td><td>idle</td><td><a target=\"_blank\" href=\"http://ip-172-31-55-163.ec2.internal:20888/proxy/application_1680417626835_0001/\" class=\"emr-proxy-link\" emr-resource=\"j-23MDEWMGYE2EP\n",
       "\" application-id=\"application_1680417626835_0001\">Link</a></td><td><a target=\"_blank\" href=\"http://ip-172-31-55-163.ec2.internal:8042/node/containerlogs/container_1680417626835_0001_01_000001/livy\" >Link</a></td><td>✔</td></tr></table>"
      ],
      "text/plain": [
       "<IPython.core.display.HTML object>"
      ]
     },
     "metadata": {},
     "output_type": "display_data"
    },
    {
     "data": {
      "application/vnd.jupyter.widget-view+json": {
       "model_id": "",
       "version_major": 2,
       "version_minor": 0
      },
      "text/plain": [
       "FloatProgress(value=0.0, bar_style='info', description='Progress:', layout=Layout(height='25px', width='50%'),…"
      ]
     },
     "metadata": {},
     "output_type": "display_data"
    },
    {
     "name": "stdout",
     "output_type": "stream",
     "text": [
      "SparkSession available as 'spark'.\n"
     ]
    },
    {
     "data": {
      "application/vnd.jupyter.widget-view+json": {
       "model_id": "",
       "version_major": 2,
       "version_minor": 0
      },
      "text/plain": [
       "FloatProgress(value=0.0, bar_style='info', description='Progress:', layout=Layout(height='25px', width='50%'),…"
      ]
     },
     "metadata": {},
     "output_type": "display_data"
    }
   ],
   "source": [
    "# Import and create a new SQLContext \n",
    "from pyspark.sql import SQLContext\n",
    "sqlContext = SQLContext(sc)"
   ]
  },
  {
   "cell_type": "code",
   "execution_count": 6,
   "id": "29bf5fe4",
   "metadata": {},
   "outputs": [
    {
     "data": {
      "application/vnd.jupyter.widget-view+json": {
       "model_id": "1bfc004edb67451fabe7100164d39ef0",
       "version_major": 2,
       "version_minor": 0
      },
      "text/plain": [
       "VBox()"
      ]
     },
     "metadata": {},
     "output_type": "display_data"
    },
    {
     "data": {
      "application/vnd.jupyter.widget-view+json": {
       "model_id": "",
       "version_major": 2,
       "version_minor": 0
      },
      "text/plain": [
       "FloatProgress(value=0.0, bar_style='info', description='Progress:', layout=Layout(height='25px', width='50%'),…"
      ]
     },
     "metadata": {},
     "output_type": "display_data"
    },
    {
     "name": "stdout",
     "output_type": "stream",
     "text": [
      "['Afghanistan, AFG', 'Albania, ALB', 'Algeria, ALG', 'American Samoa, ASA', 'Andorra, AND']"
     ]
    }
   ],
   "source": [
    "# Read the country CSV file into an RDD.\n",
    "country_lines = sc.textFile('s3://twitterwordcount/Country.csv')\n",
    "country_lines.take(5)"
   ]
  },
  {
   "cell_type": "code",
   "execution_count": 7,
   "id": "6b87239f",
   "metadata": {},
   "outputs": [
    {
     "data": {
      "application/vnd.jupyter.widget-view+json": {
       "model_id": "91985938c8b14bd694e222927fae0f29",
       "version_major": 2,
       "version_minor": 0
      },
      "text/plain": [
       "VBox()"
      ]
     },
     "metadata": {},
     "output_type": "display_data"
    },
    {
     "data": {
      "application/vnd.jupyter.widget-view+json": {
       "model_id": "",
       "version_major": 2,
       "version_minor": 0
      },
      "text/plain": [
       "FloatProgress(value=0.0, bar_style='info', description='Progress:', layout=Layout(height='25px', width='50%'),…"
      ]
     },
     "metadata": {},
     "output_type": "display_data"
    },
    {
     "name": "stdout",
     "output_type": "stream",
     "text": [
      "['Afghanistan, AFG', 'Albania, ALB', 'Algeria, ALG', 'American Samoa, ASA', 'Andorra, AND']"
     ]
    }
   ],
   "source": [
    "# Convert each line into a pair of words\n",
    "pair_of_words = country_lines.flatMap(lambda line: line.split(\"\\n\"))\n",
    "pair_of_words.take(5)"
   ]
  },
  {
   "cell_type": "code",
   "execution_count": 8,
   "id": "4b8bd5be",
   "metadata": {},
   "outputs": [
    {
     "data": {
      "application/vnd.jupyter.widget-view+json": {
       "model_id": "96631442f8eb442bbdeaab04b2f54eed",
       "version_major": 2,
       "version_minor": 0
      },
      "text/plain": [
       "VBox()"
      ]
     },
     "metadata": {},
     "output_type": "display_data"
    },
    {
     "data": {
      "application/vnd.jupyter.widget-view+json": {
       "model_id": "",
       "version_major": 2,
       "version_minor": 0
      },
      "text/plain": [
       "FloatProgress(value=0.0, bar_style='info', description='Progress:', layout=Layout(height='25px', width='50%'),…"
      ]
     },
     "metadata": {},
     "output_type": "display_data"
    },
    {
     "name": "stdout",
     "output_type": "stream",
     "text": [
      "[('Afghanistan', 'AFG'), ('Albania', 'ALB'), ('Algeria', 'ALG'), ('American Samoa', 'ASA'), ('Andorra', 'AND')]"
     ]
    }
   ],
   "source": [
    "# Convert each pair of words into a tuple\n",
    "country_tuples = pair_of_words.map(lambda word: (word.split(',') [0], word.split(', ')[1]))\n",
    "country_tuples.take(5)"
   ]
  },
  {
   "cell_type": "code",
   "execution_count": 9,
   "id": "7b058c02",
   "metadata": {},
   "outputs": [
    {
     "data": {
      "application/vnd.jupyter.widget-view+json": {
       "model_id": "938378c3385145ac8e9090c403833592",
       "version_major": 2,
       "version_minor": 0
      },
      "text/plain": [
       "VBox()"
      ]
     },
     "metadata": {},
     "output_type": "display_data"
    },
    {
     "data": {
      "application/vnd.jupyter.widget-view+json": {
       "model_id": "",
       "version_major": 2,
       "version_minor": 0
      },
      "text/plain": [
       "FloatProgress(value=0.0, bar_style='info', description='Progress:', layout=Layout(height='25px', width='50%'),…"
      ]
     },
     "metadata": {},
     "output_type": "display_data"
    },
    {
     "name": "stdout",
     "output_type": "stream",
     "text": [
      "root\n",
      " |-- country: string (nullable = true)\n",
      " |-- code: string (nullable = true)\n",
      "\n",
      "[Row(country='Afghanistan', code='AFG'), Row(country='Albania', code='ALB'), Row(country='Algeria', code='ALG')]"
     ]
    }
   ],
   "source": [
    "# Create the DataFrame, look at schema and contents\n",
    "countryDF = sqlContext.createDataFrame(country_tuples, [\"country\", \"code\"])\n",
    "countryDF.printSchema()\n",
    "countryDF.take(3)"
   ]
  },
  {
   "cell_type": "code",
   "execution_count": 10,
   "id": "af7de1aa",
   "metadata": {},
   "outputs": [
    {
     "data": {
      "application/vnd.jupyter.widget-view+json": {
       "model_id": "12574f7263734e038bf12b2e9a1e5773",
       "version_major": 2,
       "version_minor": 0
      },
      "text/plain": [
       "VBox()"
      ]
     },
     "metadata": {},
     "output_type": "display_data"
    },
    {
     "data": {
      "application/vnd.jupyter.widget-view+json": {
       "model_id": "",
       "version_major": 2,
       "version_minor": 0
      },
      "text/plain": [
       "FloatProgress(value=0.0, bar_style='info', description='Progress:', layout=Layout(height='25px', width='50%'),…"
      ]
     },
     "metadata": {},
     "output_type": "display_data"
    },
    {
     "name": "stdout",
     "output_type": "stream",
     "text": [
      "13995"
     ]
    }
   ],
   "source": [
    "# Read tweets CSV file into RDD of lines\n",
    "tweet_texts = sc.textFile('s3://twitterwordcount/Tweet.csv')\n",
    "tweet_texts.count()"
   ]
  },
  {
   "cell_type": "code",
   "execution_count": 11,
   "id": "986047ef",
   "metadata": {},
   "outputs": [
    {
     "data": {
      "application/vnd.jupyter.widget-view+json": {
       "model_id": "0b46ec9cefcd4a87bd356e86cc5b7d2b",
       "version_major": 2,
       "version_minor": 0
      },
      "text/plain": [
       "VBox()"
      ]
     },
     "metadata": {},
     "output_type": "display_data"
    },
    {
     "data": {
      "application/vnd.jupyter.widget-view+json": {
       "model_id": "",
       "version_major": 2,
       "version_minor": 0
      },
      "text/plain": [
       "FloatProgress(value=0.0, bar_style='info', description='Progress:', layout=Layout(height='25px', width='50%'),…"
      ]
     },
     "metadata": {},
     "output_type": "display_data"
    },
    {
     "name": "stdout",
     "output_type": "stream",
     "text": [
      "13391"
     ]
    }
   ],
   "source": [
    "# Clean the data: some tweets are empty. Remove the empty tweets using filter() \n",
    "non_empty_tweet_texts = tweet_texts.filter(lambda x : len(x) > 0)\n",
    "non_empty_tweet_texts.count()"
   ]
  },
  {
   "cell_type": "code",
   "execution_count": 12,
   "id": "4aed4102",
   "metadata": {},
   "outputs": [
    {
     "data": {
      "application/vnd.jupyter.widget-view+json": {
       "model_id": "d08c0c057f2d48de9c449f94c3a3e051",
       "version_major": 2,
       "version_minor": 0
      },
      "text/plain": [
       "VBox()"
      ]
     },
     "metadata": {},
     "output_type": "display_data"
    },
    {
     "data": {
      "application/vnd.jupyter.widget-view+json": {
       "model_id": "",
       "version_major": 2,
       "version_minor": 0
      },
      "text/plain": [
       "FloatProgress(value=0.0, bar_style='info', description='Progress:', layout=Layout(height='25px', width='50%'),…"
      ]
     },
     "metadata": {},
     "output_type": "display_data"
    },
    {
     "name": "stdout",
     "output_type": "stream",
     "text": [
      "[('tweet_text', 1), ('beat', 51), ('them', 70), ('10', 115), ('hours', 59)]"
     ]
    }
   ],
   "source": [
    "# Perform WordCount on the cleaned tweet texts.\n",
    "tweet_words = non_empty_tweet_texts.flatMap(lambda line: line.split(\" \"))\n",
    "tweet_tuples  = tweet_words.map(lambda word : (word, 1))\n",
    "word_counts = tweet_tuples.reduceByKey(lambda a, b :(a + b) )\n",
    "word_counts.take(5)"
   ]
  },
  {
   "cell_type": "code",
   "execution_count": 13,
   "id": "46580045",
   "metadata": {},
   "outputs": [
    {
     "data": {
      "application/vnd.jupyter.widget-view+json": {
       "model_id": "e177690bfc5c4cb29bd009533556252c",
       "version_major": 2,
       "version_minor": 0
      },
      "text/plain": [
       "VBox()"
      ]
     },
     "metadata": {},
     "output_type": "display_data"
    },
    {
     "data": {
      "application/vnd.jupyter.widget-view+json": {
       "model_id": "",
       "version_major": 2,
       "version_minor": 0
      },
      "text/plain": [
       "FloatProgress(value=0.0, bar_style='info', description='Progress:', layout=Layout(height='25px', width='50%'),…"
      ]
     },
     "metadata": {},
     "output_type": "display_data"
    },
    {
     "name": "stdout",
     "output_type": "stream",
     "text": [
      "root\n",
      " |-- word: string (nullable = true)\n",
      " |-- count: long (nullable = true)\n",
      "\n",
      "[Row(word='tweet_text', count=1), Row(word='beat', count=51), Row(word='them', count=70), Row(word='10', count=115), Row(word='hours', count=59), Row(word='#FIFA16KING', count=27), Row(word='', count=3292), Row(word='https://t.co/BFnV6jfkBL', count=27), Row(word='@Louis_Tomlinson', count=3), Row(word='@socceraid', count=3)]"
     ]
    }
   ],
   "source": [
    "# Create the DataFrame of tweet word counts\n",
    "tweetDF = sqlContext.createDataFrame(word_counts, [\"word\", \"count\"])\n",
    "tweetDF.printSchema()\n",
    "tweetDF.take(10)"
   ]
  },
  {
   "cell_type": "code",
   "execution_count": 14,
   "id": "9c53b82d",
   "metadata": {},
   "outputs": [
    {
     "data": {
      "application/vnd.jupyter.widget-view+json": {
       "model_id": "b6f43e62a047488f84ba2dfd28c5b5ee",
       "version_major": 2,
       "version_minor": 0
      },
      "text/plain": [
       "VBox()"
      ]
     },
     "metadata": {},
     "output_type": "display_data"
    },
    {
     "data": {
      "application/vnd.jupyter.widget-view+json": {
       "model_id": "",
       "version_major": 2,
       "version_minor": 0
      },
      "text/plain": [
       "FloatProgress(value=0.0, bar_style='info', description='Progress:', layout=Layout(height='25px', width='50%'),…"
      ]
     },
     "metadata": {},
     "output_type": "display_data"
    },
    {
     "name": "stdout",
     "output_type": "stream",
     "text": [
      "root\n",
      " |-- code: string (nullable = true)\n",
      " |-- country: string (nullable = true)\n",
      " |-- count: long (nullable = true)\n",
      "\n",
      "[Row(code='ARG', country='Argentina', count=2), Row(code='ALB', country='Albania', count=1), Row(code='ISR', country='Israel', count=2), Row(code='GER', country='Germany', count=20), Row(code='IND', country='India', count=4)]"
     ]
    }
   ],
   "source": [
    "# Join the country and tweet data frames (on the appropriate column)\n",
    "from pyspark.sql.functions import col \n",
    "joinedDF = countryDF.alias('c').join(tweetDF.alias('t'),col('c.country') == col('t.word')).select(col('c.code'), col('c.country'), col('t.count'))\n",
    "joinedDF.printSchema()\n",
    "joinedDF.take(5)"
   ]
  },
  {
   "cell_type": "code",
   "execution_count": 15,
   "id": "4e757af5",
   "metadata": {},
   "outputs": [
    {
     "data": {
      "application/vnd.jupyter.widget-view+json": {
       "model_id": "c56b6bc93f0041b98c374253510cba17",
       "version_major": 2,
       "version_minor": 0
      },
      "text/plain": [
       "VBox()"
      ]
     },
     "metadata": {},
     "output_type": "display_data"
    },
    {
     "data": {
      "application/vnd.jupyter.widget-view+json": {
       "model_id": "",
       "version_major": 2,
       "version_minor": 0
      },
      "text/plain": [
       "FloatProgress(value=0.0, bar_style='info', description='Progress:', layout=Layout(height='25px', width='50%'),…"
      ]
     },
     "metadata": {},
     "output_type": "display_data"
    },
    {
     "name": "stdout",
     "output_type": "stream",
     "text": [
      "(44, 44)"
     ]
    }
   ],
   "source": [
    "# Question 1: number of distinct countries mentioned\n",
    "joinedDF.count(), joinedDF.select('code').distinct().count()"
   ]
  },
  {
   "cell_type": "code",
   "execution_count": 16,
   "id": "3d25aa52",
   "metadata": {},
   "outputs": [
    {
     "data": {
      "application/vnd.jupyter.widget-view+json": {
       "model_id": "f4a5e16c3922467b89d44850fe8d5da3",
       "version_major": 2,
       "version_minor": 0
      },
      "text/plain": [
       "VBox()"
      ]
     },
     "metadata": {},
     "output_type": "display_data"
    },
    {
     "data": {
      "application/vnd.jupyter.widget-view+json": {
       "model_id": "",
       "version_major": 2,
       "version_minor": 0
      },
      "text/plain": [
       "FloatProgress(value=0.0, bar_style='info', description='Progress:', layout=Layout(height='25px', width='50%'),…"
      ]
     },
     "metadata": {},
     "output_type": "display_data"
    },
    {
     "name": "stdout",
     "output_type": "stream",
     "text": [
      "Row(sum(count)=397)"
     ]
    }
   ],
   "source": [
    "# Question 2: number of countries mentioned in tweets.\n",
    "from pyspark.sql.functions import sum\n",
    "joinedDF.agg(sum(\"count\")).first()"
   ]
  },
  {
   "cell_type": "code",
   "execution_count": 17,
   "id": "6d392d9d",
   "metadata": {},
   "outputs": [
    {
     "data": {
      "application/vnd.jupyter.widget-view+json": {
       "model_id": "ce99719eec244b10966f29cebe7d81a6",
       "version_major": 2,
       "version_minor": 0
      },
      "text/plain": [
       "VBox()"
      ]
     },
     "metadata": {},
     "output_type": "display_data"
    },
    {
     "data": {
      "application/vnd.jupyter.widget-view+json": {
       "model_id": "",
       "version_major": 2,
       "version_minor": 0
      },
      "text/plain": [
       "FloatProgress(value=0.0, bar_style='info', description='Progress:', layout=Layout(height='25px', width='50%'),…"
      ]
     },
     "metadata": {},
     "output_type": "display_data"
    },
    {
     "name": "stdout",
     "output_type": "stream",
     "text": [
      "+----+--------+-----+\n",
      "|code| country|count|\n",
      "+----+--------+-----+\n",
      "| NOR|  Norway|   52|\n",
      "| NGA| Nigeria|   49|\n",
      "| FRA|  France|   42|\n",
      "| SVK|Slovakia|   30|\n",
      "| ENG| England|   25|\n",
      "+----+--------+-----+\n",
      "only showing top 5 rows"
     ]
    }
   ],
   "source": [
    "# Table 1: top three countries and their counts.\n",
    "from pyspark.sql.functions import desc\n",
    "descSorted = joinedDF.sort(desc(\"count\"))\n",
    "descSorted.show(5)"
   ]
  },
  {
   "cell_type": "code",
   "execution_count": 18,
   "id": "f49ba238",
   "metadata": {},
   "outputs": [
    {
     "data": {
      "application/vnd.jupyter.widget-view+json": {
       "model_id": "f7f11346fd10412db25e85100c3955b4",
       "version_major": 2,
       "version_minor": 0
      },
      "text/plain": [
       "VBox()"
      ]
     },
     "metadata": {},
     "output_type": "display_data"
    },
    {
     "data": {
      "application/vnd.jupyter.widget-view+json": {
       "model_id": "",
       "version_major": 2,
       "version_minor": 0
      },
      "text/plain": [
       "FloatProgress(value=0.0, bar_style='info', description='Progress:', layout=Layout(height='25px', width='50%'),…"
      ]
     },
     "metadata": {},
     "output_type": "display_data"
    },
    {
     "name": "stdout",
     "output_type": "stream",
     "text": [
      "+----+-------+-----+\n",
      "|code|country|count|\n",
      "+----+-------+-----+\n",
      "| JPN|  Japan|    5|\n",
      "| WAL|  Wales|   19|\n",
      "| ISL|Iceland|    2|\n",
      "+----+-------+-----+"
     ]
    }
   ],
   "source": [
    "# Table 2: counts for Wales, Iceland, and Japan.\n",
    "selectedDF = joinedDF.where((col(\"country\") == \"Wales\") | (col(\"country\") == \"Iceland\") | (col(\"country\") == \"Japan\"))\n",
    "selectedDF.show()"
   ]
  },
  {
   "cell_type": "code",
   "execution_count": 19,
   "id": "9523356a",
   "metadata": {},
   "outputs": [
    {
     "data": {
      "application/vnd.jupyter.widget-view+json": {
       "model_id": "0323defc87484231aa2f3b9c72241585",
       "version_major": 2,
       "version_minor": 0
      },
      "text/plain": [
       "VBox()"
      ]
     },
     "metadata": {},
     "output_type": "display_data"
    },
    {
     "data": {
      "application/vnd.jupyter.widget-view+json": {
       "model_id": "",
       "version_major": 2,
       "version_minor": 0
      },
      "text/plain": [
       "FloatProgress(value=0.0, bar_style='info', description='Progress:', layout=Layout(height='25px', width='50%'),…"
      ]
     },
     "metadata": {},
     "output_type": "display_data"
    },
    {
     "name": "stdout",
     "output_type": "stream",
     "text": [
      "+----+-----------+-----+\n",
      "|code|    country|count|\n",
      "+----+-----------+-----+\n",
      "| WAL|      Wales|   19|\n",
      "| NED|Netherlands|   13|\n",
      "| KEN|      Kenya|    3|\n",
      "+----+-----------+-----+"
     ]
    }
   ],
   "source": [
    "selectedDF = joinedDF.where((col(\"country\") == \"Kenya\") | (col(\"country\") == \"Wales\") |(col(\"country\") == \"Netherlands\")).sort(desc(\"count\"))\n",
    "selectedDF.show()"
   ]
  },
  {
   "cell_type": "code",
   "execution_count": 20,
   "id": "f8eef4b0",
   "metadata": {},
   "outputs": [
    {
     "data": {
      "application/vnd.jupyter.widget-view+json": {
       "model_id": "7f5a783eee4148599a81e0977e998c11",
       "version_major": 2,
       "version_minor": 0
      },
      "text/plain": [
       "VBox()"
      ]
     },
     "metadata": {},
     "output_type": "display_data"
    },
    {
     "data": {
      "application/vnd.jupyter.widget-view+json": {
       "model_id": "",
       "version_major": 2,
       "version_minor": 0
      },
      "text/plain": [
       "FloatProgress(value=0.0, bar_style='info', description='Progress:', layout=Layout(height='25px', width='50%'),…"
      ]
     },
     "metadata": {},
     "output_type": "display_data"
    },
    {
     "name": "stdout",
     "output_type": "stream",
     "text": [
      "Row(avg(count)=9.022727272727273)"
     ]
    }
   ],
   "source": [
    "from pyspark.sql.functions import avg \n",
    "joinedDF.agg(avg(\"count\")).first()\n"
   ]
  },
  {
   "cell_type": "code",
   "execution_count": null,
   "id": "de61f7f4",
   "metadata": {},
   "outputs": [],
   "source": []
  }
 ],
 "metadata": {
  "kernelspec": {
   "display_name": "PySpark",
   "language": "",
   "name": "pysparkkernel"
  },
  "language_info": {
   "codemirror_mode": {
    "name": "python",
    "version": 3
   },
   "mimetype": "text/x-python",
   "name": "pyspark",
   "pygments_lexer": "python3"
  }
 },
 "nbformat": 4,
 "nbformat_minor": 5
}
